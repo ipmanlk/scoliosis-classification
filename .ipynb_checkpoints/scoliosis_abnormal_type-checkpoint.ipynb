{
 "cells": [
  {
   "cell_type": "code",
   "execution_count": 28,
   "id": "24ed86a5",
   "metadata": {},
   "outputs": [],
   "source": [
    "import os\n",
    "import numpy as np\n",
    "import tensorflow as tf\n",
    "from tensorflow.keras.preprocessing.image import ImageDataGenerator\n",
    "from tensorflow.keras.models import Sequential\n",
    "from tensorflow.keras.layers import Conv2D, MaxPooling2D, Flatten, Dense\n",
    "from tensorflow.keras.preprocessing.image import load_img, img_to_array\n"
   ]
  },
  {
   "cell_type": "code",
   "execution_count": 37,
   "id": "3675348f",
   "metadata": {},
   "outputs": [],
   "source": [
    "dataset_dir = 'dataset/Abnormal Spine'\n",
    "image_width, image_height = 224, 224"
   ]
  },
  {
   "cell_type": "code",
   "execution_count": 38,
   "id": "8b5d6c48",
   "metadata": {},
   "outputs": [
    {
     "name": "stdout",
     "output_type": "stream",
     "text": [
      "Found 109 images belonging to 4 classes.\n"
     ]
    }
   ],
   "source": [
    "# Set up data augmentation and preprocessing\n",
    "datagen = ImageDataGenerator(\n",
    "    rescale=1./255,\n",
    "    shear_range=0.2,\n",
    "    zoom_range=0.2,\n",
    "    horizontal_flip=True\n",
    ")\n",
    "\n",
    "# Load and preprocess the data\n",
    "data_generator = datagen.flow_from_directory(\n",
    "    dataset_dir,\n",
    "    target_size=(image_width, image_height),\n",
    "    batch_size=10,\n",
    "    class_mode='categorical'\n",
    ")"
   ]
  },
  {
   "cell_type": "code",
   "execution_count": 39,
   "id": "9dfb1e88",
   "metadata": {},
   "outputs": [],
   "source": [
    "# Determine the number of classes\n",
    "num_classes = len(data_generator.class_indices)\n"
   ]
  },
  {
   "cell_type": "code",
   "execution_count": 40,
   "id": "530fc5c6",
   "metadata": {},
   "outputs": [],
   "source": [
    "# Build the CNN model\n",
    "model = Sequential()\n",
    "model.add(Conv2D(32, (3, 3), activation='relu', input_shape=(image_width, image_height, 3)))\n",
    "model.add(MaxPooling2D((2, 2)))\n",
    "model.add(Conv2D(64, (3, 3), activation='relu'))\n",
    "model.add(MaxPooling2D((2, 2)))\n",
    "model.add(Conv2D(128, (3, 3), activation='relu'))\n",
    "model.add(MaxPooling2D((2, 2)))\n",
    "model.add(Flatten())\n",
    "model.add(Dense(128, activation='relu'))\n",
    "model.add(Dense(num_classes, activation='softmax'))"
   ]
  },
  {
   "cell_type": "code",
   "execution_count": 41,
   "id": "3c39e1a5",
   "metadata": {},
   "outputs": [],
   "source": [
    "# Compile the model\n",
    "model.compile(optimizer='adam', loss='categorical_crossentropy', metrics=['accuracy'])\n"
   ]
  },
  {
   "cell_type": "code",
   "execution_count": null,
   "id": "8115949a",
   "metadata": {},
   "outputs": [
    {
     "name": "stdout",
     "output_type": "stream",
     "text": [
      "Epoch 1/10\n"
     ]
    },
    {
     "name": "stderr",
     "output_type": "stream",
     "text": [
      "2023-06-04 10:22:56.532394: I tensorflow/core/common_runtime/executor.cc:1197] [/device:CPU:0] (DEBUG INFO) Executor start aborting (this does not indicate an error and you can ignore this message): INVALID_ARGUMENT: You must feed a value for placeholder tensor 'Placeholder/_0' with dtype int32\n",
      "\t [[{{node Placeholder/_0}}]]\n"
     ]
    },
    {
     "name": "stdout",
     "output_type": "stream",
     "text": [
      "11/11 [==============================] - 8s 700ms/step - loss: 1.6384 - accuracy: 0.3119\n",
      "Epoch 2/10\n",
      "11/11 [==============================] - 8s 711ms/step - loss: 1.3447 - accuracy: 0.3761\n",
      "Epoch 3/10\n",
      " 7/11 [==================>...........] - ETA: 2s - loss: 1.3688 - accuracy: 0.3623"
     ]
    }
   ],
   "source": [
    "# Train the model\n",
    "model.fit(data_generator, epochs=10)\n"
   ]
  },
  {
   "cell_type": "code",
   "execution_count": null,
   "id": "70c1b2dc",
   "metadata": {},
   "outputs": [],
   "source": [
    "# Evaluate the model on the test set\n",
    "test_datagen = ImageDataGenerator(rescale=1./255)\n",
    "test_generator = test_datagen.flow_from_directory(\n",
    "    dataset_dir,\n",
    "    target_size=(image_width, image_height),\n",
    "    batch_size=10,\n",
    "    class_mode='categorical',\n",
    "    shuffle=False  # Ensure the order is preserved for evaluation\n",
    ")\n",
    "\n",
    "loss, accuracy = model.evaluate(test_generator)\n",
    "print('Test Loss:', loss)\n",
    "print('Test Accuracy:', accuracy)"
   ]
  },
  {
   "cell_type": "code",
   "execution_count": null,
   "id": "d90ae7d0",
   "metadata": {},
   "outputs": [],
   "source": [
    "# Test an image\n",
    "image_path = 'tests/abnormal_2.jpg'\n",
    "image = load_img(image_path, target_size=(image_width, image_height))\n",
    "image = img_to_array(image) / 255.0\n",
    "image = np.expand_dims(image, axis=0)\n",
    "\n",
    "prediction = model.predict(image)\n",
    "\n",
    "class_label = data_generator.class_indices\n",
    "predicted_class_index = np.argmax(prediction[0])\n",
    "predicted_class = list(class_label.keys())[list(class_label.values()).index(predicted_class_index)]\n",
    "print('Predicted class:', predicted_class)"
   ]
  }
 ],
 "metadata": {
  "kernelspec": {
   "display_name": "Python 3 (ipykernel)",
   "language": "python",
   "name": "python3"
  },
  "language_info": {
   "codemirror_mode": {
    "name": "ipython",
    "version": 3
   },
   "file_extension": ".py",
   "mimetype": "text/x-python",
   "name": "python",
   "nbconvert_exporter": "python",
   "pygments_lexer": "ipython3",
   "version": "3.11.3"
  }
 },
 "nbformat": 4,
 "nbformat_minor": 5
}
