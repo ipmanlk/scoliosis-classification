{
 "cells": [
  {
   "cell_type": "code",
   "execution_count": 27,
   "metadata": {},
   "outputs": [],
   "source": [
    "import os\n",
    "import numpy as np\n",
    "import tensorflow as tf\n",
    "from tensorflow.keras.preprocessing.image import ImageDataGenerator\n",
    "from tensorflow.keras.models import Sequential\n",
    "from tensorflow.keras.layers import Conv2D, MaxPooling2D, Flatten, Dense\n",
    "from tensorflow.keras.preprocessing.image import load_img, img_to_array\n"
   ]
  },
  {
   "cell_type": "code",
   "execution_count": 28,
   "metadata": {},
   "outputs": [],
   "source": [
    "dataset_dir = 'dataset'\n",
    "image_width, image_height = 224, 224"
   ]
  },
  {
   "cell_type": "code",
   "execution_count": 30,
   "metadata": {},
   "outputs": [
    {
     "name": "stdout",
     "output_type": "stream",
     "text": [
      "Found 180 images belonging to 2 classes.\n",
      "Found 180 images belonging to 2 classes.\n"
     ]
    }
   ],
   "source": [
    "# Set up data augmentation and preprocessing\n",
    "train_datagen = ImageDataGenerator(\n",
    "    rescale=1./255,\n",
    "    shear_range=0.2,\n",
    "    zoom_range=0.2,\n",
    "    horizontal_flip=True\n",
    ")\n",
    "\n",
    "test_datagen = ImageDataGenerator(rescale=1./255)\n",
    "\n",
    "# Load and preprocess the training set\n",
    "train_set = train_datagen.flow_from_directory(\n",
    "    os.path.join(dataset_dir),\n",
    "    target_size=(image_width, image_height),\n",
    "    batch_size=10,\n",
    "    class_mode='binary'\n",
    ")\n",
    "\n",
    "# Load and preprocess the testing set\n",
    "test_set = test_datagen.flow_from_directory(\n",
    "    os.path.join(dataset_dir),\n",
    "    target_size=(image_width, image_height),\n",
    "    batch_size=10,\n",
    "    class_mode='binary'\n",
    ")"
   ]
  },
  {
   "cell_type": "code",
   "execution_count": 31,
   "metadata": {},
   "outputs": [
    {
     "name": "stdout",
     "output_type": "stream",
     "text": [
      "Epoch 1/10\n"
     ]
    },
    {
     "name": "stderr",
     "output_type": "stream",
     "text": [
      "2023-06-04 10:13:08.722439: I tensorflow/core/common_runtime/executor.cc:1197] [/device:CPU:0] (DEBUG INFO) Executor start aborting (this does not indicate an error and you can ignore this message): INVALID_ARGUMENT: You must feed a value for placeholder tensor 'Placeholder/_0' with dtype int32\n",
      "\t [[{{node Placeholder/_0}}]]\n"
     ]
    },
    {
     "name": "stdout",
     "output_type": "stream",
     "text": [
      "18/18 [==============================] - ETA: 0s - loss: 0.9264 - accuracy: 0.5944"
     ]
    },
    {
     "name": "stderr",
     "output_type": "stream",
     "text": [
      "2023-06-04 10:13:22.401169: I tensorflow/core/common_runtime/executor.cc:1197] [/device:CPU:0] (DEBUG INFO) Executor start aborting (this does not indicate an error and you can ignore this message): INVALID_ARGUMENT: You must feed a value for placeholder tensor 'Placeholder/_0' with dtype int32\n",
      "\t [[{{node Placeholder/_0}}]]\n"
     ]
    },
    {
     "name": "stdout",
     "output_type": "stream",
     "text": [
      "18/18 [==============================] - 17s 921ms/step - loss: 0.9264 - accuracy: 0.5944 - val_loss: 0.4827 - val_accuracy: 0.7944\n",
      "Epoch 2/10\n",
      "18/18 [==============================] - 16s 897ms/step - loss: 0.5063 - accuracy: 0.8167 - val_loss: 0.3868 - val_accuracy: 0.8000\n",
      "Epoch 3/10\n",
      "18/18 [==============================] - 16s 910ms/step - loss: 0.4237 - accuracy: 0.8278 - val_loss: 0.3217 - val_accuracy: 0.8500\n",
      "Epoch 4/10\n",
      "18/18 [==============================] - 16s 926ms/step - loss: 0.3966 - accuracy: 0.8222 - val_loss: 0.3219 - val_accuracy: 0.8667\n",
      "Epoch 5/10\n",
      "18/18 [==============================] - 16s 910ms/step - loss: 0.2990 - accuracy: 0.8722 - val_loss: 0.1861 - val_accuracy: 0.9389\n",
      "Epoch 6/10\n",
      "18/18 [==============================] - 16s 896ms/step - loss: 0.1903 - accuracy: 0.9444 - val_loss: 0.1400 - val_accuracy: 0.9500\n",
      "Epoch 7/10\n",
      "18/18 [==============================] - 17s 947ms/step - loss: 0.1970 - accuracy: 0.9500 - val_loss: 0.1178 - val_accuracy: 0.9556\n",
      "Epoch 8/10\n",
      "18/18 [==============================] - 15s 866ms/step - loss: 0.1751 - accuracy: 0.9444 - val_loss: 0.0807 - val_accuracy: 0.9722\n",
      "Epoch 9/10\n",
      "18/18 [==============================] - 16s 922ms/step - loss: 0.1424 - accuracy: 0.9444 - val_loss: 0.0702 - val_accuracy: 0.9722\n",
      "Epoch 10/10\n",
      "18/18 [==============================] - 16s 901ms/step - loss: 0.1253 - accuracy: 0.9556 - val_loss: 0.1417 - val_accuracy: 0.9667\n"
     ]
    },
    {
     "data": {
      "text/plain": [
       "<keras.callbacks.History at 0x7f6664e4f650>"
      ]
     },
     "execution_count": 31,
     "metadata": {},
     "output_type": "execute_result"
    }
   ],
   "source": [
    "# Build the CNN model\n",
    "model = Sequential()\n",
    "model.add(Conv2D(32, (3, 3), activation='relu', input_shape=(image_width, image_height, 3)))\n",
    "model.add(MaxPooling2D((2, 2)))\n",
    "model.add(Conv2D(64, (3, 3), activation='relu'))\n",
    "model.add(MaxPooling2D((2, 2)))\n",
    "model.add(Conv2D(128, (3, 3), activation='relu'))\n",
    "model.add(MaxPooling2D((2, 2)))\n",
    "model.add(Flatten())\n",
    "model.add(Dense(128, activation='relu'))\n",
    "model.add(Dense(1, activation='sigmoid'))\n",
    "\n",
    "# Compile the model\n",
    "model.compile(optimizer='adam', loss='binary_crossentropy', metrics=['accuracy'])\n",
    "\n",
    "# Train the model\n",
    "model.fit(train_set, epochs=10, validation_data=test_set)"
   ]
  },
  {
   "cell_type": "code",
   "execution_count": 32,
   "metadata": {},
   "outputs": [
    {
     "name": "stderr",
     "output_type": "stream",
     "text": [
      "2023-06-04 10:16:25.391805: I tensorflow/core/common_runtime/executor.cc:1197] [/device:CPU:0] (DEBUG INFO) Executor start aborting (this does not indicate an error and you can ignore this message): INVALID_ARGUMENT: You must feed a value for placeholder tensor 'Placeholder/_0' with dtype int32\n",
      "\t [[{{node Placeholder/_0}}]]\n"
     ]
    },
    {
     "name": "stdout",
     "output_type": "stream",
     "text": [
      "18/18 [==============================] - 3s 189ms/step - loss: 0.1417 - accuracy: 0.9667\n",
      "Test Loss: 0.14165876805782318\n",
      "Test Accuracy: 0.9666666388511658\n"
     ]
    }
   ],
   "source": [
    "loss, accuracy = model.evaluate(test_set)\n",
    "print('Test Loss:', loss)\n",
    "print('Test Accuracy:', accuracy)\n"
   ]
  },
  {
   "cell_type": "code",
   "execution_count": 35,
   "metadata": {},
   "outputs": [],
   "source": [
    "# test an image\n",
    "image_path = 'tests/normal_1.jpg'\n",
    "image = load_img(image_path, target_size=(image_width, image_height))\n",
    "image = img_to_array(image) / 255.0\n",
    "image = np.expand_dims(image, axis=0)"
   ]
  },
  {
   "cell_type": "code",
   "execution_count": 36,
   "metadata": {},
   "outputs": [
    {
     "name": "stdout",
     "output_type": "stream",
     "text": [
      "1/1 [==============================] - 0s 24ms/step\n",
      "[[0.99141526]]\n",
      "Predicted class: Normal\n"
     ]
    }
   ],
   "source": [
    "prediction = model.predict(image)\n",
    "\n",
    "print(prediction)\n",
    "\n",
    "class_label = 'Normal' if prediction[0][0] > 0.5 else 'Abnormal'\n",
    "print('Predicted class:', class_label)\n"
   ]
  }
 ],
 "metadata": {
  "kernelspec": {
   "display_name": "Python 3 (ipykernel)",
   "language": "python",
   "name": "python3"
  },
  "language_info": {
   "codemirror_mode": {
    "name": "ipython",
    "version": 3
   },
   "file_extension": ".py",
   "mimetype": "text/x-python",
   "name": "python",
   "nbconvert_exporter": "python",
   "pygments_lexer": "ipython3",
   "version": "3.11.3"
  }
 },
 "nbformat": 4,
 "nbformat_minor": 2
}
